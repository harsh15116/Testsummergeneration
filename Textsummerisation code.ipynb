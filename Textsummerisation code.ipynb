{
  "nbformat": 4,
  "nbformat_minor": 0,
  "metadata": {
    "colab": {
      "provenance": [],
      "gpuType": "T4"
    },
    "kernelspec": {
      "name": "python3",
      "display_name": "Python 3"
    },
    "language_info": {
      "name": "python"
    },
    "accelerator": "GPU"
  },
  "cells": [
    {
      "cell_type": "code",
      "execution_count": 89,
      "metadata": {
        "id": "u0W5D_qSzvpc"
      },
      "outputs": [],
      "source": [
        "import tensorflow as tf\n",
        "from tensorflow.python.keras import backend as K\n",
        "\n",
        "logger = tf.get_logger()\n",
        "\n",
        "class AttentionLayer(tf.keras.layers.Layer):\n",
        "    \"\"\"\n",
        "    This class implements Bahdanau attention (https://arxiv.org/pdf/1409.0473.pdf).\n",
        "    There are three sets of weights introduced W_a, U_a, and V_a\n",
        "     \"\"\"\n",
        "\n",
        "    def __init__(self, **kwargs):\n",
        "        super(AttentionLayer, self).__init__(**kwargs)\n",
        "\n",
        "    def build(self, input_shape):\n",
        "        assert isinstance(input_shape, list)\n",
        "        # Create a trainable weight variable for this layer.\n",
        "\n",
        "        self.W_a = self.add_weight(name='W_a',\n",
        "                                   shape=tf.TensorShape((input_shape[0][2], input_shape[0][2])),\n",
        "                                   initializer='uniform',\n",
        "                                   trainable=True)\n",
        "        self.U_a = self.add_weight(name='U_a',\n",
        "                                   shape=tf.TensorShape((input_shape[1][2], input_shape[0][2])),\n",
        "                                   initializer='uniform',\n",
        "                                   trainable=True)\n",
        "        self.V_a = self.add_weight(name='V_a',\n",
        "                                   shape=tf.TensorShape((input_shape[0][2], 1)),\n",
        "                                   initializer='uniform',\n",
        "                                   trainable=True)\n",
        "\n",
        "        super(AttentionLayer, self).build(input_shape)  # Be sure to call this at the end\n",
        "\n",
        "    def call(self, inputs):\n",
        "        \"\"\"\n",
        "        inputs: [encoder_output_sequence, decoder_output_sequence]\n",
        "        \"\"\"\n",
        "        assert type(inputs) == list\n",
        "        encoder_out_seq, decoder_out_seq = inputs\n",
        "\n",
        "        logger.debug(f\"encoder_out_seq.shape = {encoder_out_seq.shape}\")\n",
        "        logger.debug(f\"decoder_out_seq.shape = {decoder_out_seq.shape}\")\n",
        "\n",
        "        def energy_step(inputs, states):\n",
        "            \"\"\" Step function for computing energy for a single decoder state\n",
        "            inputs: (batchsize * 1 * de_in_dim)\n",
        "            states: (batchsize * 1 * de_latent_dim)\n",
        "            \"\"\"\n",
        "\n",
        "            logger.debug(\"Running energy computation step\")\n",
        "\n",
        "            if not isinstance(states, (list, tuple)):\n",
        "                raise TypeError(f\"States must be an iterable. Got {states} of type {type(states)}\")\n",
        "\n",
        "            encoder_full_seq = states[-1]\n",
        "\n",
        "            \"\"\" Computing S.Wa where S=[s0, s1, ..., si]\"\"\"\n",
        "            # <= batch size * en_seq_len * latent_dim\n",
        "            W_a_dot_s = K.dot(encoder_full_seq, self.W_a)\n",
        "\n",
        "            \"\"\" Computing hj.Ua \"\"\"\n",
        "            U_a_dot_h = K.expand_dims(K.dot(inputs, self.U_a), 1)  # <= batch_size, 1, latent_dim\n",
        "\n",
        "            logger.debug(f\"U_a_dot_h.shape = {U_a_dot_h.shape}\")\n",
        "\n",
        "            \"\"\" tanh(S.Wa + hj.Ua) \"\"\"\n",
        "            # <= batch_size*en_seq_len, latent_dim\n",
        "            Ws_plus_Uh = K.tanh(W_a_dot_s + U_a_dot_h)\n",
        "\n",
        "            logger.debug(f\"Ws_plus_Uh.shape = {Ws_plus_Uh.shape}\")\n",
        "\n",
        "            \"\"\" softmax(va.tanh(S.Wa + hj.Ua)) \"\"\"\n",
        "            # <= batch_size, en_seq_len\n",
        "            e_i = K.squeeze(K.dot(Ws_plus_Uh, self.V_a), axis=-1)\n",
        "            # <= batch_size, en_seq_len\n",
        "            e_i = K.softmax(e_i)\n",
        "\n",
        "            logger.debug(f\"ei.shape = {e_i.shape}\")\n",
        "\n",
        "            return e_i, [e_i]\n",
        "\n",
        "        def context_step(inputs, states):\n",
        "            \"\"\" Step function for computing ci using ei \"\"\"\n",
        "\n",
        "            logger.debug(\"Running attention vector computation step\")\n",
        "\n",
        "            if not isinstance(states, (list, tuple)):\n",
        "                raise TypeError(f\"States must be an iterable. Got {states} of type {type(states)}\")\n",
        "\n",
        "            encoder_full_seq = states[-1]\n",
        "\n",
        "            # <= batch_size, hidden_size\n",
        "            c_i = K.sum(encoder_full_seq * K.expand_dims(inputs, -1), axis=1)\n",
        "\n",
        "            logger.debug(f\"ci.shape = {c_i.shape}\")\n",
        "\n",
        "            return c_i, [c_i]\n",
        "\n",
        "        # we don't maintain states between steps when computing attention\n",
        "        # attention is stateless, so we're passing a fake state for RNN step function\n",
        "        fake_state_c = K.sum(encoder_out_seq, axis=1)\n",
        "        fake_state_e = K.sum(encoder_out_seq, axis=2)  # <= (batch_size, enc_seq_len, latent_dim\n",
        "\n",
        "        \"\"\" Computing energy outputs \"\"\"\n",
        "        # e_outputs => (batch_size, de_seq_len, en_seq_len)\n",
        "        last_out, e_outputs, _ = K.rnn(\n",
        "            energy_step, decoder_out_seq, [fake_state_e], constants=[encoder_out_seq]\n",
        "        )\n",
        "\n",
        "        \"\"\" Computing context vectors \"\"\"\n",
        "        last_out, c_outputs, _ = K.rnn(\n",
        "            context_step, e_outputs, [fake_state_c], constants=[encoder_out_seq]\n",
        "        )\n",
        "\n",
        "        return c_outputs, e_outputs\n",
        "\n",
        "    def compute_output_shape(self, input_shape):\n",
        "        \"\"\" Outputs produced by the layer \"\"\"\n",
        "        return [\n",
        "            tf.TensorShape((input_shape[1][0], input_shape[1][1], input_shape[1][2])),\n",
        "            tf.TensorShape((input_shape[1][0], input_shape[1][1], input_shape[0][1]))\n",
        "        ]"
      ]
    },
    {
      "cell_type": "code",
      "source": [],
      "metadata": {
        "id": "aW6uck2O3Qnu"
      },
      "execution_count": 65,
      "outputs": []
    },
    {
      "cell_type": "code",
      "source": [
        "import numpy as np\n",
        "import pandas as pd\n",
        "import re\n",
        "from bs4 import BeautifulSoup\n",
        "from keras.preprocessing.text import Tokenizer\n",
        "from keras.preprocessing.sequence import pad_sequences\n",
        "from nltk.corpus import stopwords\n",
        "from tensorflow.keras.layers import Input, LSTM, Embedding, Dense, Concatenate, TimeDistributed\n",
        "from tensorflow.keras.models import Model\n",
        "from tensorflow.keras.callbacks import EarlyStopping, ModelCheckpoint\n",
        "import warnings\n",
        "pd.set_option(\"display.max_colwidth\", 200)\n",
        "warnings.filterwarnings(\"ignore\")"
      ],
      "metadata": {
        "colab": {
          "base_uri": "https://localhost:8080/",
          "height": 401
        },
        "id": "9i1ujBYo3xqe",
        "outputId": "930d28ee-e5b1-4ea9-a472-9658b3cfcd38"
      },
      "execution_count": 90,
      "outputs": [
        {
          "output_type": "error",
          "ename": "ImportError",
          "evalue": "cannot import name 'AttentionLayer' from 'attention' (/usr/local/lib/python3.10/dist-packages/attention/__init__.py)",
          "traceback": [
            "\u001b[0;31m---------------------------------------------------------------------------\u001b[0m",
            "\u001b[0;31mImportError\u001b[0m                               Traceback (most recent call last)",
            "\u001b[0;32m<ipython-input-90-9402c8de2ac0>\u001b[0m in \u001b[0;36m<cell line: 12>\u001b[0;34m()\u001b[0m\n\u001b[1;32m     10\u001b[0m \u001b[0;32mfrom\u001b[0m \u001b[0mtensorflow\u001b[0m\u001b[0;34m.\u001b[0m\u001b[0mkeras\u001b[0m\u001b[0;34m.\u001b[0m\u001b[0mcallbacks\u001b[0m \u001b[0;32mimport\u001b[0m \u001b[0mEarlyStopping\u001b[0m\u001b[0;34m,\u001b[0m \u001b[0mModelCheckpoint\u001b[0m\u001b[0;34m\u001b[0m\u001b[0;34m\u001b[0m\u001b[0m\n\u001b[1;32m     11\u001b[0m \u001b[0;32mimport\u001b[0m \u001b[0mwarnings\u001b[0m\u001b[0;34m\u001b[0m\u001b[0;34m\u001b[0m\u001b[0m\n\u001b[0;32m---> 12\u001b[0;31m \u001b[0;32mfrom\u001b[0m \u001b[0mattention\u001b[0m \u001b[0;32mimport\u001b[0m \u001b[0mAttentionLayer\u001b[0m\u001b[0;34m\u001b[0m\u001b[0;34m\u001b[0m\u001b[0m\n\u001b[0m\u001b[1;32m     13\u001b[0m \u001b[0mpd\u001b[0m\u001b[0;34m.\u001b[0m\u001b[0mset_option\u001b[0m\u001b[0;34m(\u001b[0m\u001b[0;34m\"display.max_colwidth\"\u001b[0m\u001b[0;34m,\u001b[0m \u001b[0;36m200\u001b[0m\u001b[0;34m)\u001b[0m\u001b[0;34m\u001b[0m\u001b[0;34m\u001b[0m\u001b[0m\n\u001b[1;32m     14\u001b[0m \u001b[0mwarnings\u001b[0m\u001b[0;34m.\u001b[0m\u001b[0mfilterwarnings\u001b[0m\u001b[0;34m(\u001b[0m\u001b[0;34m\"ignore\"\u001b[0m\u001b[0;34m)\u001b[0m\u001b[0;34m\u001b[0m\u001b[0;34m\u001b[0m\u001b[0m\n",
            "\u001b[0;31mImportError\u001b[0m: cannot import name 'AttentionLayer' from 'attention' (/usr/local/lib/python3.10/dist-packages/attention/__init__.py)",
            "",
            "\u001b[0;31m---------------------------------------------------------------------------\u001b[0;32m\nNOTE: If your import is failing due to a missing package, you can\nmanually install dependencies using either !pip or !apt.\n\nTo view examples of installing some common dependencies, click the\n\"Open Examples\" button below.\n\u001b[0;31m---------------------------------------------------------------------------\u001b[0m\n"
          ],
          "errorDetails": {
            "actions": [
              {
                "action": "open_url",
                "actionText": "Open Examples",
                "url": "/notebooks/snippets/importing_libraries.ipynb"
              }
            ]
          }
        }
      ]
    },
    {
      "cell_type": "code",
      "source": [
        "data=pd.read_csv(\"/content/Reviews.csv\",nrows=100000)"
      ],
      "metadata": {
        "id": "IEvVk9HO32lt"
      },
      "execution_count": 92,
      "outputs": []
    },
    {
      "cell_type": "code",
      "source": [
        "data.info()"
      ],
      "metadata": {
        "colab": {
          "base_uri": "https://localhost:8080/"
        },
        "id": "GvpW1fcxEkMS",
        "outputId": "50e956d0-3ba1-4f31-b176-3dc6b4216bc4"
      },
      "execution_count": 95,
      "outputs": [
        {
          "output_type": "stream",
          "name": "stdout",
          "text": [
            "<class 'pandas.core.frame.DataFrame'>\n",
            "Int64Index: 88421 entries, 0 to 99999\n",
            "Data columns (total 10 columns):\n",
            " #   Column                  Non-Null Count  Dtype \n",
            "---  ------                  --------------  ----- \n",
            " 0   Id                      88421 non-null  int64 \n",
            " 1   ProductId               88421 non-null  object\n",
            " 2   UserId                  88421 non-null  object\n",
            " 3   ProfileName             88421 non-null  object\n",
            " 4   HelpfulnessNumerator    88421 non-null  int64 \n",
            " 5   HelpfulnessDenominator  88421 non-null  int64 \n",
            " 6   Score                   88421 non-null  int64 \n",
            " 7   Time                    88421 non-null  int64 \n",
            " 8   Summary                 88421 non-null  object\n",
            " 9   Text                    88421 non-null  object\n",
            "dtypes: int64(5), object(5)\n",
            "memory usage: 7.4+ MB\n"
          ]
        }
      ]
    },
    {
      "cell_type": "code",
      "source": [
        "data.drop_duplicates(subset=['Text'],inplace=True)#dropping duplicates\n",
        "data.dropna(axis=0,inplace=True)#dropping na"
      ],
      "metadata": {
        "id": "5fiXDj2f4B6t"
      },
      "execution_count": 94,
      "outputs": []
    },
    {
      "cell_type": "code",
      "source": [
        "contraction_mapping = {\"ain't\": \"is not\", \"aren't\": \"are not\",\"can't\": \"cannot\", \"'cause\": \"because\", \"could've\": \"could have\", \"couldn't\": \"could not\",\n",
        "                           \"didn't\": \"did not\",  \"doesn't\": \"does not\", \"don't\": \"do not\", \"hadn't\": \"had not\", \"hasn't\": \"has not\", \"haven't\": \"have not\",\n",
        "                           \"he'd\": \"he would\",\"he'll\": \"he will\", \"he's\": \"he is\", \"how'd\": \"how did\", \"how'd'y\": \"how do you\", \"how'll\": \"how will\", \"how's\": \"how is\",\n",
        "                           \"I'd\": \"I would\", \"I'd've\": \"I would have\", \"I'll\": \"I will\", \"I'll've\": \"I will have\",\"I'm\": \"I am\", \"I've\": \"I have\", \"i'd\": \"i would\",\n",
        "                           \"i'd've\": \"i would have\", \"i'll\": \"i will\",  \"i'll've\": \"i will have\",\"i'm\": \"i am\", \"i've\": \"i have\", \"isn't\": \"is not\", \"it'd\": \"it would\",\n",
        "                           \"it'd've\": \"it would have\", \"it'll\": \"it will\", \"it'll've\": \"it will have\",\"it's\": \"it is\", \"let's\": \"let us\", \"ma'am\": \"madam\",\n",
        "                           \"mayn't\": \"may not\", \"might've\": \"might have\",\"mightn't\": \"might not\",\"mightn't've\": \"might not have\", \"must've\": \"must have\",\n",
        "                           \"mustn't\": \"must not\", \"mustn't've\": \"must not have\", \"needn't\": \"need not\", \"needn't've\": \"need not have\",\"o'clock\": \"of the clock\",\n",
        "                           \"oughtn't\": \"ought not\", \"oughtn't've\": \"ought not have\", \"shan't\": \"shall not\", \"sha'n't\": \"shall not\", \"shan't've\": \"shall not have\",\n",
        "                           \"she'd\": \"she would\", \"she'd've\": \"she would have\", \"she'll\": \"she will\", \"she'll've\": \"she will have\", \"she's\": \"she is\",\n",
        "                           \"should've\": \"should have\", \"shouldn't\": \"should not\", \"shouldn't've\": \"should not have\", \"so've\": \"so have\",\"so's\": \"so as\",\n",
        "                           \"this's\": \"this is\",\"that'd\": \"that would\", \"that'd've\": \"that would have\", \"that's\": \"that is\", \"there'd\": \"there would\",\n",
        "                           \"there'd've\": \"there would have\", \"there's\": \"there is\", \"here's\": \"here is\",\"they'd\": \"they would\", \"they'd've\": \"they would have\",\n",
        "                           \"they'll\": \"they will\", \"they'll've\": \"they will have\", \"they're\": \"they are\", \"they've\": \"they have\", \"to've\": \"to have\",\n",
        "                           \"wasn't\": \"was not\", \"we'd\": \"we would\", \"we'd've\": \"we would have\", \"we'll\": \"we will\", \"we'll've\": \"we will have\", \"we're\": \"we are\",\n",
        "                           \"we've\": \"we have\", \"weren't\": \"were not\", \"what'll\": \"what will\", \"what'll've\": \"what will have\", \"what're\": \"what are\",\n",
        "                           \"what's\": \"what is\", \"what've\": \"what have\", \"when's\": \"when is\", \"when've\": \"when have\", \"where'd\": \"where did\", \"where's\": \"where is\",\n",
        "                           \"where've\": \"where have\", \"who'll\": \"who will\", \"who'll've\": \"who will have\", \"who's\": \"who is\", \"who've\": \"who have\",\n",
        "                           \"why's\": \"why is\", \"why've\": \"why have\", \"will've\": \"will have\", \"won't\": \"will not\", \"won't've\": \"will not have\",\n",
        "                           \"would've\": \"would have\", \"wouldn't\": \"would not\", \"wouldn't've\": \"would not have\", \"y'all\": \"you all\",\n",
        "                           \"y'all'd\": \"you all would\",\"y'all'd've\": \"you all would have\",\"y'all're\": \"you all are\",\"y'all've\": \"you all have\",\n",
        "                           \"you'd\": \"you would\", \"you'd've\": \"you would have\", \"you'll\": \"you will\", \"you'll've\": \"you will have\",\n",
        "                           \"you're\": \"you are\", \"you've\": \"you have\"}"
      ],
      "metadata": {
        "id": "I11D7V6x4ITs"
      },
      "execution_count": 96,
      "outputs": []
    },
    {
      "cell_type": "code",
      "source": [
        "  >>> import nltk\n",
        "  >>> nltk.download('stopwords')"
      ],
      "metadata": {
        "colab": {
          "base_uri": "https://localhost:8080/"
        },
        "id": "4wG3dQ3p4WH0",
        "outputId": "5f297220-18b0-470f-d3e5-e3584efb2961"
      },
      "execution_count": 98,
      "outputs": [
        {
          "output_type": "stream",
          "name": "stderr",
          "text": [
            "[nltk_data] Downloading package stopwords to /root/nltk_data...\n",
            "[nltk_data]   Package stopwords is already up-to-date!\n"
          ]
        },
        {
          "output_type": "execute_result",
          "data": {
            "text/plain": [
              "True"
            ]
          },
          "metadata": {},
          "execution_count": 98
        }
      ]
    },
    {
      "cell_type": "code",
      "source": [
        "stop_words = set(stopwords.words('english'))"
      ],
      "metadata": {
        "id": "lvKveF_-4OVN"
      },
      "execution_count": 100,
      "outputs": []
    },
    {
      "cell_type": "code",
      "source": [
        "def summary_cleaner(text):\n",
        "    newString = re.sub('\"','', text)\n",
        "    newString = ' '.join([contraction_mapping[t] if t in contraction_mapping else t for t in newString.split(\" \")])\n",
        "    newString = re.sub(r\"'s\\b\",\"\",newString)\n",
        "    newString = re.sub(\"[^a-zA-Z]\", \" \", newString)\n",
        "    newString = newString.lower()\n",
        "    tokens=newString.split()\n",
        "    newString=''\n",
        "    for i in tokens:\n",
        "        if len(i)>1:\n",
        "            newString=newString+i+' '\n",
        "    return newString\n",
        "\n",
        "#Call the above function\n",
        "cleaned_summary = []\n",
        "for t in data['Summary']:\n",
        "    cleaned_summary.append(summary_cleaner(t))\n",
        "\n",
        "data['cleaned_text']=cleaned_text\n",
        "data['cleaned_summary']=cleaned_summary\n",
        "data['cleaned_summary'].replace('', np.nan, inplace=True)\n",
        "data.dropna(axis=0,inplace=True)"
      ],
      "metadata": {
        "id": "m6atXIKe4S_O"
      },
      "execution_count": 72,
      "outputs": []
    },
    {
      "cell_type": "code",
      "source": [
        "def text_cleaner(text,num):\n",
        "    newString = text.lower()\n",
        "    newString = BeautifulSoup(newString, \"lxml\").text\n",
        "    newString = re.sub(r'\\([^)]*\\)', '', newString)\n",
        "    newString = re.sub('\"','', newString)\n",
        "    newString = ' '.join([contraction_mapping[t] if t in contraction_mapping else t for t in newString.split(\" \")])\n",
        "    newString = re.sub(r\"'s\\b\",\"\",newString)\n",
        "    newString = re.sub(\"[^a-zA-Z]\", \" \", newString)\n",
        "    newString = re.sub('[m]{2,}', 'mm', newString)\n",
        "    if(num==0):\n",
        "        tokens = [w for w in newString.split() if not w in stop_words]\n",
        "    else:\n",
        "        tokens=newString.split()\n",
        "    long_words=[]\n",
        "    for i in tokens:\n",
        "        if len(i)>1:                                                 #removing short word\n",
        "            long_words.append(i)\n",
        "    return (\" \".join(long_words)).strip()"
      ],
      "metadata": {
        "id": "orpD7EmqE8li"
      },
      "execution_count": 101,
      "outputs": []
    },
    {
      "cell_type": "code",
      "source": [
        "#call the function\n",
        "cleaned_text = []\n",
        "for t in data['Text']:\n",
        "    cleaned_text.append(text_cleaner(t,0))\n",
        "cleaned_text[:5]"
      ],
      "metadata": {
        "colab": {
          "base_uri": "https://localhost:8080/"
        },
        "id": "DOf2RcqOFAsB",
        "outputId": "2ec10f66-48f6-4ff5-9df1-7598ee557c58"
      },
      "execution_count": 102,
      "outputs": [
        {
          "output_type": "execute_result",
          "data": {
            "text/plain": [
              "['bought several vitality canned dog food products found good quality product looks like stew processed meat smells better labrador finicky appreciates product better',\n",
              " 'product arrived labeled jumbo salted peanuts peanuts actually small sized unsalted sure error vendor intended represent product jumbo',\n",
              " 'confection around centuries light pillowy citrus gelatin nuts case filberts cut tiny squares liberally coated powdered sugar tiny mouthful heaven chewy flavorful highly recommend yummy treat familiar story lewis lion witch wardrobe treat seduces edmund selling brother sisters witch',\n",
              " 'looking secret ingredient robitussin believe found got addition root beer extract ordered made cherry soda flavor medicinal',\n",
              " 'great taffy great price wide assortment yummy taffy delivery quick taffy lover deal']"
            ]
          },
          "metadata": {},
          "execution_count": 102
        }
      ]
    },
    {
      "cell_type": "code",
      "source": [
        "cleaned_summary = []\n",
        "for t in data['Summary']:\n",
        "    cleaned_summary.append(text_cleaner(t,1))\n",
        "cleaned_summary[:10]"
      ],
      "metadata": {
        "colab": {
          "base_uri": "https://localhost:8080/"
        },
        "id": "KRpchEtc4efV",
        "outputId": "7e0ffa0a-6204-4f26-9b11-e396f1b63ce0"
      },
      "execution_count": 103,
      "outputs": [
        {
          "output_type": "execute_result",
          "data": {
            "text/plain": [
              "['good quality dog food',\n",
              " 'not as advertised',\n",
              " 'delight says it all',\n",
              " 'cough medicine',\n",
              " 'great taffy',\n",
              " 'nice taffy',\n",
              " 'great just as good as the expensive brands',\n",
              " 'wonderful tasty taffy',\n",
              " 'yay barley',\n",
              " 'healthy dog food']"
            ]
          },
          "metadata": {},
          "execution_count": 103
        }
      ]
    },
    {
      "cell_type": "code",
      "source": [
        "data['cleaned_text']=cleaned_text\n",
        "data['cleaned_summary']=cleaned_summary"
      ],
      "metadata": {
        "id": "UydXPcIx4jdl"
      },
      "execution_count": 104,
      "outputs": []
    },
    {
      "cell_type": "code",
      "source": [
        "data.replace('', np.nan, inplace=True)\n",
        "data.dropna(axis=0,inplace=True)"
      ],
      "metadata": {
        "id": "O1hzNhpb4pQM"
      },
      "execution_count": 106,
      "outputs": []
    },
    {
      "cell_type": "code",
      "source": [
        "import matplotlib.pyplot as plt\n",
        "\n",
        "text_word_count = []\n",
        "summary_word_count = []\n",
        "\n",
        "# populate the lists with sentence lengths\n",
        "for i in data['cleaned_text']:\n",
        "      text_word_count.append(len(i.split()))\n",
        "\n",
        "for i in data['cleaned_summary']:\n",
        "      summary_word_count.append(len(i.split()))\n",
        "\n",
        "length_df = pd.DataFrame({'text':text_word_count, 'summary':summary_word_count})\n",
        "\n",
        "length_df.hist(bins = 30)\n",
        "plt.show()"
      ],
      "metadata": {
        "colab": {
          "base_uri": "https://localhost:8080/",
          "height": 452
        },
        "id": "ObJI7-qL4qGk",
        "outputId": "f090113e-e6e5-4884-dc37-6923e79e223d"
      },
      "execution_count": 107,
      "outputs": [
        {
          "output_type": "display_data",
          "data": {
            "text/plain": [
              "<Figure size 640x480 with 2 Axes>"
            ],
            "image/png": "[encoded data removed]"
          },
          "metadata": {}
        }
      ]
    },
    {
      "cell_type": "code",
      "source": [
        "cnt=0\n",
        "for i in data['cleaned_summary']:\n",
        "    if(len(i.split())<=10):\n",
        "        cnt=cnt+1\n",
        "print(cnt/len(data['cleaned_summary']))"
      ],
      "metadata": {
        "colab": {
          "base_uri": "https://localhost:8080/"
        },
        "id": "lZ6v6xLg4szU",
        "outputId": "1b6decfc-5d89-4f0a-8120-fb7012a4e548"
      },
      "execution_count": 108,
      "outputs": [
        {
          "output_type": "stream",
          "name": "stdout",
          "text": [
            "0.9788683772679426\n"
          ]
        }
      ]
    },
    {
      "cell_type": "code",
      "source": [
        "cnt=0\n",
        "for i in data['cleaned_text']:\n",
        "    if(len(i.split())<=80):\n",
        "        cnt=cnt+1\n",
        "print(cnt/len(data['cleaned_text']))"
      ],
      "metadata": {
        "colab": {
          "base_uri": "https://localhost:8080/"
        },
        "id": "WtySBsfH4wmM",
        "outputId": "babf677d-5cff-4a39-caed-515cf995ce91"
      },
      "execution_count": 109,
      "outputs": [
        {
          "output_type": "stream",
          "name": "stdout",
          "text": [
            "0.9076637502688142\n"
          ]
        }
      ]
    },
    {
      "cell_type": "code",
      "source": [
        "max_text_len=80\n",
        "max_summary_len=10"
      ],
      "metadata": {
        "id": "ocIQgI3wCLw7"
      },
      "execution_count": 110,
      "outputs": []
    },
    {
      "cell_type": "code",
      "source": [
        "from keras import backend as K\n",
        "K.clear_session()\n",
        "latent_dim = 500\n",
        "\n",
        "cleaned_text =np.array(data['cleaned_text'])\n",
        "cleaned_summary=np.array(data['cleaned_summary'])\n",
        "\n",
        "short_text=[]\n",
        "short_summary=[]\n",
        "\n",
        "for i in range(len(cleaned_text)):\n",
        "    if(len(cleaned_summary[i].split())<=max_summary_len and len(cleaned_text[i].split())<=max_text_len):\n",
        "        short_text.append(cleaned_text[i])\n",
        "        short_summary.append(cleaned_summary[i])\n",
        "\n",
        "df=pd.DataFrame({'text':short_text,'summary':short_summary})"
      ],
      "metadata": {
        "id": "J0EcXZH-42P0"
      },
      "execution_count": 111,
      "outputs": []
    },
    {
      "cell_type": "code",
      "source": [
        "df['summary'] = df['summary'].apply(lambda x : 'sostok '+ x + ' eostok')"
      ],
      "metadata": {
        "id": "y08pc8OeGngA"
      },
      "execution_count": 112,
      "outputs": []
    },
    {
      "cell_type": "code",
      "source": [
        "for i in range(5):\n",
        "    print(\"Review:\",df['text'][i])\n",
        "    print(\"Summary:\",df['summary'][i])\n",
        "    print(\"\\n\")"
      ],
      "metadata": {
        "colab": {
          "base_uri": "https://localhost:8080/"
        },
        "id": "pMDomIlTGp-3",
        "outputId": "92976e8b-274f-418c-8795-479fb95d61fb"
      },
      "execution_count": 113,
      "outputs": [
        {
          "output_type": "stream",
          "name": "stdout",
          "text": [
            "Review: bought several vitality canned dog food products found good quality product looks like stew processed meat smells better labrador finicky appreciates product better\n",
            "Summary: sostok good quality dog food eostok\n",
            "\n",
            "\n",
            "Review: product arrived labeled jumbo salted peanuts peanuts actually small sized unsalted sure error vendor intended represent product jumbo\n",
            "Summary: sostok not as advertised eostok\n",
            "\n",
            "\n",
            "Review: confection around centuries light pillowy citrus gelatin nuts case filberts cut tiny squares liberally coated powdered sugar tiny mouthful heaven chewy flavorful highly recommend yummy treat familiar story lewis lion witch wardrobe treat seduces edmund selling brother sisters witch\n",
            "Summary: sostok delight says it all eostok\n",
            "\n",
            "\n",
            "Review: looking secret ingredient robitussin believe found got addition root beer extract ordered made cherry soda flavor medicinal\n",
            "Summary: sostok cough medicine eostok\n",
            "\n",
            "\n",
            "Review: great taffy great price wide assortment yummy taffy delivery quick taffy lover deal\n",
            "Summary: sostok great taffy eostok\n",
            "\n",
            "\n"
          ]
        }
      ]
    },
    {
      "cell_type": "code",
      "source": [
        "from sklearn.model_selection import train_test_split\n",
        "x_tr,x_val,y_tr,y_val=train_test_split(np.array(df['text']),np.array(df['summary']),test_size=0.05,random_state=0,shuffle=True)"
      ],
      "metadata": {
        "id": "kl-5J5jd5fQ9"
      },
      "execution_count": 114,
      "outputs": []
    },
    {
      "cell_type": "code",
      "source": [
        "x_tokenizer = Tokenizer()\n",
        "x_tokenizer.fit_on_texts(list(x_tr))"
      ],
      "metadata": {
        "id": "khliJTmLGyOW"
      },
      "execution_count": 115,
      "outputs": []
    },
    {
      "cell_type": "code",
      "source": [
        "thresh=4\n",
        "\n",
        "cnt=0\n",
        "tot_cnt=0\n",
        "freq=0\n",
        "tot_freq=0\n",
        "\n",
        "for key,value in x_tokenizer.word_counts.items():\n",
        "    tot_cnt=tot_cnt+1\n",
        "    tot_freq=tot_freq+value\n",
        "    if(value<thresh):\n",
        "        cnt=cnt+1\n",
        "        freq=freq+value\n",
        "\n",
        "print(\"% of rare words in vocabulary:\",(cnt/tot_cnt)*100)\n",
        "print(\"Total Coverage of rare words:\",(freq/tot_freq)*100)"
      ],
      "metadata": {
        "colab": {
          "base_uri": "https://localhost:8080/"
        },
        "id": "bCIbOyu2G4dI",
        "outputId": "ffcaed76-8452-4bcf-ed52-686069c2fb89"
      },
      "execution_count": 116,
      "outputs": [
        {
          "output_type": "stream",
          "name": "stdout",
          "text": [
            "% of rare words in vocabulary: 64.77672086593881\n",
            "Total Coverage of rare words: 1.704724941451676\n"
          ]
        }
      ]
    },
    {
      "cell_type": "code",
      "source": [
        "#prepare a tokenizer for reviews on training data\n",
        "x_tokenizer = Tokenizer(num_words=tot_cnt-cnt)\n",
        "x_tokenizer.fit_on_texts(list(x_tr))\n",
        "\n",
        "#convert text sequences into integer sequences\n",
        "x_tr_seq    =   x_tokenizer.texts_to_sequences(x_tr)\n",
        "x_val_seq   =   x_tokenizer.texts_to_sequences(x_val)\n",
        "\n",
        "#padding zero upto maximum length\n",
        "x_tr    =   pad_sequences(x_tr_seq,  maxlen=max_text_len, padding='post')\n",
        "x_val   =   pad_sequences(x_val_seq, maxlen=max_text_len, padding='post')\n",
        "\n",
        "#size of vocabulary ( +1 for padding token)\n",
        "x_voc   =  x_tokenizer.num_words + 1"
      ],
      "metadata": {
        "id": "duuCZHo9G-cO"
      },
      "execution_count": 117,
      "outputs": []
    },
    {
      "cell_type": "code",
      "source": [
        "x_voc"
      ],
      "metadata": {
        "colab": {
          "base_uri": "https://localhost:8080/"
        },
        "id": "BYsBh8-6G_tE",
        "outputId": "6a4a4768-529b-4471-f1f7-fe969ad2b55f"
      },
      "execution_count": 118,
      "outputs": [
        {
          "output_type": "execute_result",
          "data": {
            "text/plain": [
              "15035"
            ]
          },
          "metadata": {},
          "execution_count": 118
        }
      ]
    },
    {
      "cell_type": "code",
      "source": [
        "y_tokenizer = Tokenizer()\n",
        "y_tokenizer.fit_on_texts(list(y_tr))"
      ],
      "metadata": {
        "id": "PkZ2d7MHHFBO"
      },
      "execution_count": 119,
      "outputs": []
    },
    {
      "cell_type": "code",
      "source": [
        "thresh=6\n",
        "\n",
        "cnt=0\n",
        "tot_cnt=0\n",
        "freq=0\n",
        "tot_freq=0\n",
        "\n",
        "for key,value in y_tokenizer.word_counts.items():\n",
        "    tot_cnt=tot_cnt+1\n",
        "    tot_freq=tot_freq+value\n",
        "    if(value<thresh):\n",
        "        cnt=cnt+1\n",
        "        freq=freq+value\n",
        "\n",
        "print(\"% of rare words in vocabulary:\",(cnt/tot_cnt)*100)\n",
        "print(\"Total Coverage of rare words:\",(freq/tot_freq)*100)"
      ],
      "metadata": {
        "colab": {
          "base_uri": "https://localhost:8080/"
        },
        "id": "YR7u4WIZHIeh",
        "outputId": "7c76893d-6888-48ab-fdb6-e1543b1e212b"
      },
      "execution_count": 120,
      "outputs": [
        {
          "output_type": "stream",
          "name": "stdout",
          "text": [
            "% of rare words in vocabulary: 75.96368392706009\n",
            "Total Coverage of rare words: 3.9117983829235223\n"
          ]
        }
      ]
    },
    {
      "cell_type": "code",
      "source": [
        "#prepare a tokenizer for summaries on training data\n",
        "y_tokenizer = Tokenizer(num_words=tot_cnt-cnt)\n",
        "y_tokenizer.fit_on_texts(list(y_tr))\n",
        "\n",
        "#convert text sequences into integer sequences\n",
        "y_tr_seq    =   y_tokenizer.texts_to_sequences(y_tr)\n",
        "y_val_seq   =   y_tokenizer.texts_to_sequences(y_val)\n",
        "\n",
        "#padding zero upto maximum length\n",
        "y_tr    =   pad_sequences(y_tr_seq, maxlen=max_summary_len, padding='post')\n",
        "y_val   =   pad_sequences(y_val_seq, maxlen=max_summary_len, padding='post')\n",
        "\n",
        "#size of vocabulary\n",
        "y_voc  =   y_tokenizer.num_words +1"
      ],
      "metadata": {
        "id": "hREF8ESQHMj_"
      },
      "execution_count": 121,
      "outputs": []
    },
    {
      "cell_type": "code",
      "source": [
        "y_tokenizer.word_counts['sostok'],len(y_tr)"
      ],
      "metadata": {
        "colab": {
          "base_uri": "https://localhost:8080/"
        },
        "id": "dTkwjdxzHTjn",
        "outputId": "c4563e65-301f-417b-f07f-79f8ce2a820a"
      },
      "execution_count": 122,
      "outputs": [
        {
          "output_type": "execute_result",
          "data": {
            "text/plain": [
              "(74964, 74964)"
            ]
          },
          "metadata": {},
          "execution_count": 122
        }
      ]
    },
    {
      "cell_type": "code",
      "source": [
        "ind=[]\n",
        "for i in range(len(y_tr)):\n",
        "    cnt=0\n",
        "    for j in y_tr[i]:\n",
        "        if j!=0:\n",
        "            cnt=cnt+1\n",
        "    if(cnt==2):\n",
        "        ind.append(i)\n",
        "\n",
        "y_tr=np.delete(y_tr,ind, axis=0)\n",
        "x_tr=np.delete(x_tr,ind, axis=0)"
      ],
      "metadata": {
        "id": "B721AJuYHXSO"
      },
      "execution_count": 123,
      "outputs": []
    },
    {
      "cell_type": "code",
      "source": [
        "ind=[]\n",
        "for i in range(len(y_val)):\n",
        "    cnt=0\n",
        "    for j in y_val[i]:\n",
        "        if j!=0:\n",
        "            cnt=cnt+1\n",
        "    if(cnt==2):\n",
        "        ind.append(i)\n",
        "\n",
        "y_val=np.delete(y_val,ind, axis=0)\n",
        "x_val=np.delete(x_val,ind, axis=0)"
      ],
      "metadata": {
        "id": "Or6Z63sOHYN9"
      },
      "execution_count": 124,
      "outputs": []
    },
    {
      "cell_type": "code",
      "source": [
        "from keras import backend as K\n",
        "K.clear_session()\n",
        "\n",
        "latent_dim = 300\n",
        "embedding_dim=100\n",
        "\n",
        "# Encoder\n",
        "encoder_inputs = Input(shape=(max_text_len,))\n",
        "\n",
        "#embedding layer\n",
        "enc_emb =  Embedding(x_voc, embedding_dim,trainable=True)(encoder_inputs)\n",
        "\n",
        "#encoder lstm 1\n",
        "encoder_lstm1 = LSTM(latent_dim,return_sequences=True,return_state=True,dropout=0.4,recurrent_dropout=0.4)\n",
        "encoder_output1, state_h1, state_c1 = encoder_lstm1(enc_emb)\n",
        "\n",
        "#encoder lstm 2\n",
        "encoder_lstm2 = LSTM(latent_dim,return_sequences=True,return_state=True,dropout=0.4,recurrent_dropout=0.4)\n",
        "encoder_output2, state_h2, state_c2 = encoder_lstm2(encoder_output1)\n",
        "\n",
        "#encoder lstm 3\n",
        "encoder_lstm3=LSTM(latent_dim, return_state=True, return_sequences=True,dropout=0.4,recurrent_dropout=0.4)\n",
        "encoder_outputs, state_h, state_c= encoder_lstm3(encoder_output2)\n",
        "\n",
        "# Set up the decoder, using `encoder_states` as initial state.\n",
        "decoder_inputs = Input(shape=(None,))\n",
        "\n",
        "#embedding layer\n",
        "dec_emb_layer = Embedding(y_voc, embedding_dim,trainable=True)\n",
        "dec_emb = dec_emb_layer(decoder_inputs)\n",
        "\n",
        "decoder_lstm = LSTM(latent_dim, return_sequences=True, return_state=True,dropout=0.4,recurrent_dropout=0.2)\n",
        "decoder_outputs,decoder_fwd_state, decoder_back_state = decoder_lstm(dec_emb,initial_state=[state_h, state_c])\n",
        "\n",
        "# Attention layer\n",
        "attn_layer = AttentionLayer(name='attention_layer')\n",
        "attn_out, attn_states = attn_layer([encoder_outputs, decoder_outputs])\n",
        "\n",
        "# Concat attention input and decoder LSTM output\n",
        "decoder_concat_input = Concatenate(axis=-1, name='concat_layer')([decoder_outputs, attn_out])\n",
        "\n",
        "#dense layer\n",
        "decoder_dense =  TimeDistributed(Dense(y_voc, activation='softmax'))\n",
        "decoder_outputs = decoder_dense(decoder_concat_input)\n",
        "\n",
        "# Define the model\n",
        "model = Model([encoder_inputs, decoder_inputs], decoder_outputs)\n",
        "\n",
        "model.summary()"
      ],
      "metadata": {
        "colab": {
          "base_uri": "https://localhost:8080/"
        },
        "id": "2OTXnpYfHfEH",
        "outputId": "1f155128-6b60-4fa2-82d5-0caec4d13d13"
      },
      "execution_count": 138,
      "outputs": [
        {
          "output_type": "stream",
          "name": "stderr",
          "text": [
            "WARNING:tensorflow:Layer lstm will not use cuDNN kernels since it doesn't meet the criteria. It will use a generic GPU kernel as fallback when running on GPU.\n",
            "WARNING:tensorflow:Layer lstm_1 will not use cuDNN kernels since it doesn't meet the criteria. It will use a generic GPU kernel as fallback when running on GPU.\n",
            "WARNING:tensorflow:Layer lstm_2 will not use cuDNN kernels since it doesn't meet the criteria. It will use a generic GPU kernel as fallback when running on GPU.\n",
            "WARNING:tensorflow:Layer lstm_3 will not use cuDNN kernels since it doesn't meet the criteria. It will use a generic GPU kernel as fallback when running on GPU.\n"
          ]
        },
        {
          "output_type": "stream",
          "name": "stdout",
          "text": [
            "Model: \"model\"\n",
            "__________________________________________________________________________________________________\n",
            " Layer (type)                Output Shape                 Param #   Connected to                  \n",
            "==================================================================================================\n",
            " input_1 (InputLayer)        [(None, 80)]                 0         []                            \n",
            "                                                                                                  \n",
            " embedding (Embedding)       (None, 80, 100)              1503500   ['input_1[0][0]']             \n",
            "                                                                                                  \n",
            " lstm (LSTM)                 [(None, 80, 300),            481200    ['embedding[0][0]']           \n",
            "                              (None, 300),                                                        \n",
            "                              (None, 300)]                                                        \n",
            "                                                                                                  \n",
            " input_2 (InputLayer)        [(None, None)]               0         []                            \n",
            "                                                                                                  \n",
            " lstm_1 (LSTM)               [(None, 80, 300),            721200    ['lstm[0][0]']                \n",
            "                              (None, 300),                                                        \n",
            "                              (None, 300)]                                                        \n",
            "                                                                                                  \n",
            " embedding_1 (Embedding)     (None, None, 100)            312500    ['input_2[0][0]']             \n",
            "                                                                                                  \n",
            " lstm_2 (LSTM)               [(None, 80, 300),            721200    ['lstm_1[0][0]']              \n",
            "                              (None, 300),                                                        \n",
            "                              (None, 300)]                                                        \n",
            "                                                                                                  \n",
            " lstm_3 (LSTM)               [(None, None, 300),          481200    ['embedding_1[0][0]',         \n",
            "                              (None, 300),                           'lstm_2[0][1]',              \n",
            "                              (None, 300)]                           'lstm_2[0][2]']              \n",
            "                                                                                                  \n",
            " attention_layer (Attention  ((None, None, 300),          180300    ['lstm_2[0][0]',              \n",
            " Layer)                       (None, None, 80))                      'lstm_3[0][0]']              \n",
            "                                                                                                  \n",
            " concat_layer (Concatenate)  (None, None, 600)            0         ['lstm_3[0][0]',              \n",
            "                                                                     'attention_layer[0][0]']     \n",
            "                                                                                                  \n",
            " time_distributed (TimeDist  (None, None, 3125)           1878125   ['concat_layer[0][0]']        \n",
            " ributed)                                                                                         \n",
            "                                                                                                  \n",
            "==================================================================================================\n",
            "Total params: 6279225 (23.95 MB)\n",
            "Trainable params: 6279225 (23.95 MB)\n",
            "Non-trainable params: 0 (0.00 Byte)\n",
            "__________________________________________________________________________________________________\n"
          ]
        }
      ]
    },
    {
      "cell_type": "code",
      "source": [
        "model.compile(optimizer='rmsprop', loss='sparse_categorical_crossentropy')"
      ],
      "metadata": {
        "id": "XJUub5vrHz5W"
      },
      "execution_count": 140,
      "outputs": []
    },
    {
      "cell_type": "code",
      "source": [
        "es = [EarlyStopping(monitor='val_loss', mode='min', verbose=1,patience=2),\n",
        "      ModelCheckpoint('./MyModel_tf',monitor='val_loss', verbose=1,\n",
        "                      save_best_only=True, mode='min', save_weights_only = False)]"
      ],
      "metadata": {
        "id": "YalUU3q9HiYm"
      },
      "execution_count": 141,
      "outputs": []
    },
    {
      "cell_type": "code",
      "source": [],
      "metadata": {
        "id": "sIvfbsZkHwJ-"
      },
      "execution_count": null,
      "outputs": []
    },
    {
      "cell_type": "code",
      "source": [
        "history=model.fit([x_tr,y_tr[:,:-1]], y_tr.reshape(y_tr.shape[0],y_tr.shape[1], 1)[:,1:] ,epochs=50,callbacks=[es],batch_size=512, validation_data=([x_val,y_val[:,:-1]], y_val.reshape(y_val.shape[0],y_val.shape[1], 1)[:,1:]))"
      ],
      "metadata": {
        "colab": {
          "base_uri": "https://localhost:8080/"
        },
        "id": "nS_mJS6CHn8Y",
        "outputId": "2186ca89-75b8-44e5-b3b0-3e31687e7859"
      },
      "execution_count": null,
      "outputs": [
        {
          "output_type": "stream",
          "name": "stdout",
          "text": [
            "Epoch 1/50\n",
            "145/145 [==============================] - ETA: 0s - loss: 3.1399\n",
            "Epoch 1: val_loss improved from inf to 3.16042, saving model to ./MyModel_tf\n",
            "145/145 [==============================] - 172s 1s/step - loss: 3.1399 - val_loss: 3.1604\n",
            "Epoch 2/50\n",
            " 29/145 [=====>........................] - ETA: 1:54 - loss: 2.6641"
          ]
        }
      ]
    },
    {
      "cell_type": "code",
      "source": [
        "# serialize model to JSON\n",
        "model_json = model.to_json()\n",
        "with open(\"summary.json\", \"w\") as json_file:\n",
        "    json_file.write(model_json)\n",
        "# serialize weights to HDF5\n",
        "model.save_weights(\"summary.h5\")\n",
        "print(\"Saved model to disk\")"
      ],
      "metadata": {
        "colab": {
          "base_uri": "https://localhost:8080/"
        },
        "id": "6azXrbLFIGD7",
        "outputId": "2c7a4a35-de0d-4981-802d-3f889fed2f5d"
      },
      "execution_count": 130,
      "outputs": [
        {
          "output_type": "stream",
          "name": "stdout",
          "text": [
            "Saved model to disk\n"
          ]
        }
      ]
    },
    {
      "cell_type": "code",
      "source": [
        "from matplotlib import pyplot\n",
        "pyplot.plot(history.history['loss'], label='train')\n",
        "pyplot.plot(history.history['val_loss'], label='test')\n",
        "pyplot.legend()\n",
        "pyplot.show()"
      ],
      "metadata": {
        "colab": {
          "base_uri": "https://localhost:8080/",
          "height": 435
        },
        "id": "febSogwsIG5m",
        "outputId": "6b24520e-9ebc-423f-b7ab-c416f0cfc352"
      },
      "execution_count": 131,
      "outputs": [
        {
          "output_type": "display_data",
          "data": {
            "text/plain": [
              "<Figure size 640x480 with 1 Axes>"
            ],
            "image/png": "[encoded data removed]"
          },
          "metadata": {}
        }
      ]
    },
    {
      "cell_type": "code",
      "source": [
        "reverse_target_word_index=y_tokenizer.index_word\n",
        "reverse_source_word_index=x_tokenizer.index_word\n",
        "target_word_index=y_tokenizer.word_index"
      ],
      "metadata": {
        "id": "qw_86-ZmILa4"
      },
      "execution_count": 132,
      "outputs": []
    },
    {
      "cell_type": "code",
      "source": [
        "# Encode the input sequence to get the feature vector\n",
        "encoder_model = Model(inputs=encoder_inputs,outputs=[encoder_outputs, state_h, state_c])\n",
        "\n",
        "# Decoder setup\n",
        "# Below tensors will hold the states of the previous time step\n",
        "decoder_state_input_h = Input(shape=(latent_dim,))\n",
        "decoder_state_input_c = Input(shape=(latent_dim,))\n",
        "decoder_hidden_state_input = Input(shape=(max_text_len,latent_dim))\n",
        "\n",
        "# Get the embeddings of the decoder sequence\n",
        "dec_emb2= dec_emb_layer(decoder_inputs)\n",
        "# To predict the next word in the sequence, set the initial states to the states from the previous time step\n",
        "decoder_outputs2, state_h2, state_c2 = decoder_lstm(dec_emb2, initial_state=[decoder_state_input_h, decoder_state_input_c])\n",
        "\n",
        "#attention inference\n",
        "attn_out_inf, attn_states_inf = attn_layer([decoder_hidden_state_input, decoder_outputs2])\n",
        "decoder_inf_concat = Concatenate(axis=-1, name='concat')([decoder_outputs2, attn_out_inf])\n",
        "\n",
        "# A dense softmax layer to generate prob dist. over the target vocabulary\n",
        "decoder_outputs2 = decoder_dense(decoder_inf_concat)\n",
        "\n",
        "# Final decoder model\n",
        "decoder_model = Model(\n",
        "    [decoder_inputs] + [decoder_hidden_state_input,decoder_state_input_h, decoder_state_input_c],\n",
        "    [decoder_outputs2] + [state_h2, state_c2])"
      ],
      "metadata": {
        "id": "T1zVr1HxIQYv"
      },
      "execution_count": 133,
      "outputs": []
    },
    {
      "cell_type": "code",
      "source": [
        "def decode_sequence(input_seq):\n",
        "    # Encode the input as state vectors.\n",
        "    e_out, e_h, e_c = encoder_model.predict(input_seq)\n",
        "\n",
        "    # Generate empty target sequence of length 1.\n",
        "    target_seq = np.zeros((1,1))\n",
        "\n",
        "    # Populate the first word of target sequence with the start word.\n",
        "    target_seq[0, 0] = target_word_index['sostok']\n",
        "\n",
        "    stop_condition = False\n",
        "    decoded_sentence = ''\n",
        "    while not stop_condition:\n",
        "\n",
        "        output_tokens, h, c = decoder_model.predict([target_seq] + [e_out, e_h, e_c])\n",
        "\n",
        "        # Sample a token\n",
        "        sampled_token_index = np.argmax(output_tokens[0, -1, :])\n",
        "        sampled_token = reverse_target_word_index[sampled_token_index]\n",
        "\n",
        "        if(sampled_token!='eostok'):\n",
        "            decoded_sentence += ' '+sampled_token\n",
        "\n",
        "        # Exit condition: either hit max length or find stop word.\n",
        "        if (sampled_token == 'eostok'  or len(decoded_sentence.split()) >= (max_summary_len-1)):\n",
        "            stop_condition = True\n",
        "\n",
        "        # Update the target sequence (of length 1).\n",
        "        target_seq = np.zeros((1,1))\n",
        "        target_seq[0, 0] = sampled_token_index\n",
        "\n",
        "        # Update internal states\n",
        "        e_h, e_c = h, c\n",
        "\n",
        "    return decoded_sentence"
      ],
      "metadata": {
        "id": "nxgApDd0IW_2"
      },
      "execution_count": 134,
      "outputs": []
    },
    {
      "cell_type": "code",
      "source": [
        "def seq2summary(input_seq):\n",
        "    newString=''\n",
        "    for i in input_seq:\n",
        "        if((i!=0 and i!=target_word_index['sostok']) and i!=target_word_index['eostok']):\n",
        "            newString=newString+reverse_target_word_index[i]+' '\n",
        "    return newString\n",
        "\n",
        "def seq2text(input_seq):\n",
        "    newString=''\n",
        "    for i in input_seq:\n",
        "        if(i!=0):\n",
        "            newString=newString+reverse_source_word_index[i]+' '\n",
        "    return newString"
      ],
      "metadata": {
        "id": "CYVr-yw_IbYr"
      },
      "execution_count": 135,
      "outputs": []
    },
    {
      "cell_type": "code",
      "source": [
        "for i in range(0,100):\n",
        "    print(\"Review:\",seq2text(x_tr[i]))\n",
        "    print(\"Original summary:\",seq2summary(y_tr[i]))\n",
        "    print(\"Predicted summary:\",decode_sequence(x_tr[i].reshape(1,max_text_len)))\n",
        "    print(\"\\n\")"
      ],
      "metadata": {
        "colab": {
          "base_uri": "https://localhost:8080/"
        },
        "id": "_f-kFPnUIb8F",
        "outputId": "53af7f50-b01d-442d-ed76-e313f98a2f1a"
      },
      "execution_count": 137,
      "outputs": [
        {
          "output_type": "stream",
          "name": "stdout",
          "text": [
            "Review: great service day salmon dinner night box design well done enjoyed design \n",
            "Original summary: great \n",
            "1/1 [==============================] - 0s 227ms/step\n",
            "1/1 [==============================] - 0s 82ms/step\n",
            "1/1 [==============================] - 0s 71ms/step\n",
            "Predicted summary:  great\n",
            "\n",
            "\n",
            "Review: outstandingly good cereal sweet delicious healthy nice choice anyone wanting live healthy life \n",
            "Original summary: delicious and healthy \n",
            "1/1 [==============================] - 0s 389ms/step\n",
            "1/1 [==============================] - 0s 64ms/step\n",
            "1/1 [==============================] - 0s 71ms/step\n",
            "Predicted summary:  great\n",
            "\n",
            "\n",
            "Review: think good food little fed daily de terrible gas went diarrhea making several trips outside panic night kind wake use couple times week think buy newmans chicken rice organic canned plain beef mix would better feeding organ meat daily mistake maybe dog fine careful little shih tzu problems like barf diet generally feed organ meats week maybe mistake personally feel good food careful much richer canned food feed tablespoon goes long way \n",
            "Original summary: too rich for my dogs \n",
            "1/1 [==============================] - 0s 320ms/step\n",
            "1/1 [==============================] - 0s 107ms/step\n",
            "1/1 [==============================] - 0s 50ms/step\n",
            "Predicted summary:  great\n",
            "\n",
            "\n",
            "Review: loved got gift tried really gives decent sample space ice cream really enjoyed order future \n",
            "Original summary: love this \n",
            "1/1 [==============================] - 0s 393ms/step\n",
            "1/1 [==============================] - 0s 99ms/step\n",
            "1/1 [==============================] - 0s 33ms/step\n",
            "Predicted summary:  great\n",
            "\n",
            "\n",
            "Review: picked oz bag salt vinegar chips last weekend wegman blink eye bag gone nice vinegar flavor bad side blink eye gone good portion control ordered variety pack oz size help portion control flavors like fair warning parmesan garlic garlic love salt pepper calories pack nice change baked chips try like \n",
            "Original summary: awesome chips \n",
            "1/1 [==============================] - 0s 138ms/step\n",
            "1/1 [==============================] - 0s 25ms/step\n",
            "1/1 [==============================] - 0s 19ms/step\n",
            "Predicted summary:  great\n",
            "\n",
            "\n",
            "Review: great dane two torn arthritis hips three well done one surgery second next spring healed mean time needed find different way provide glucosamine since picky needed something treat form favorite thing eat went petco going buy one bag realized offer three bags price could happier neither eating three weeks even limping surgical knee even vet surprised well change treats recommend anyone needs help pet enjoy life fullest buy wont regret ps also bought duck loves \n",
            "Original summary: my dog is addicted \n",
            "1/1 [==============================] - 0s 80ms/step\n",
            "1/1 [==============================] - 0s 19ms/step\n",
            "1/1 [==============================] - 0s 20ms/step\n",
            "Predicted summary:  great\n",
            "\n",
            "\n",
            "Review: land lakes makes good hot chocolate flavor especially good gourmet cocoa one favorites \n",
            "Original summary: delicious \n",
            "1/1 [==============================] - 0s 77ms/step\n",
            "1/1 [==============================] - 0s 19ms/step\n",
            "1/1 [==============================] - 0s 19ms/step\n",
            "Predicted summary:  great\n",
            "\n",
            "\n",
            "Review: great coffee flavor great price like method use coffee canister store open package use subscription even better price \n",
            "Original summary: great way to make cup coffee \n",
            "1/1 [==============================] - 0s 82ms/step\n",
            "1/1 [==============================] - 0s 21ms/step\n",
            "1/1 [==============================] - 0s 20ms/step\n",
            "Predicted summary:  great\n",
            "\n",
            "\n",
            "Review: save money get better results get flavoring fries much better buying bottle malt vinegar salt find particular flavorful convenient \n",
            "Original summary: stick to real salt and vinegar \n",
            "1/1 [==============================] - 0s 87ms/step\n",
            "1/1 [==============================] - 0s 22ms/step\n",
            "1/1 [==============================] - 0s 19ms/step\n",
            "Predicted summary:  great\n",
            "\n",
            "\n",
            "Review: happy see available lbs rawhide great value every night bedtime two dogs get know chewie part nightly routine really enjoy rawhide sizes perfect larger dog large small lb dog remedy cut saw suitable size works great although dogs may able tolerate type treats dogs experienced problems dogs absolutely love \n",
            "Original summary: great product \n",
            "1/1 [==============================] - 0s 82ms/step\n",
            "1/1 [==============================] - 0s 19ms/step\n",
            "1/1 [==============================] - 0s 19ms/step\n",
            "Predicted summary:  great\n",
            "\n",
            "\n",
            "Review: said candies recieved fine love candy keeps long time caramel creams lb \n",
            "Original summary: one of our favorite candies \n",
            "1/1 [==============================] - 0s 81ms/step\n",
            "1/1 [==============================] - 0s 19ms/step\n",
            "1/1 [==============================] - 0s 19ms/step\n",
            "Predicted summary:  great\n",
            "\n",
            "\n",
            "Review: great tasting bbq chips going buy first looking size bags thinking concept popped chips fence glad finally made mind complaint bags small want purchase regular size bag maybe box six something buy bulk save buy box extra packaging going cost \n",
            "Original summary: delicious bbq chips \n",
            "1/1 [==============================] - 0s 82ms/step\n",
            "1/1 [==============================] - 0s 19ms/step\n",
            "1/1 [==============================] - 0s 22ms/step\n",
            "Predicted summary:  great\n",
            "\n",
            "\n",
            "Review: absolutely love cookies bought orginally discount first bite fell love celiacs really hard find good cookie oatmeal make taste homemade price better would give stars great lunches send kids cannot regular treats \n",
            "Original summary: great cookies \n",
            "1/1 [==============================] - 0s 75ms/step\n",
            "1/1 [==============================] - 0s 19ms/step\n",
            "1/1 [==============================] - 0s 19ms/step\n",
            "Predicted summary:  great\n",
            "\n",
            "\n",
            "Review: say omg little treats addictive grams sugar nine wafers far best tasting wafer cookies ever diet would eat whole bag one sitting cannot quite describe flavor except say light rich sweet never bought amazon local health food market price amazon cheaper compared buying locally \n",
            "Original summary: cannot eat just one \n",
            "1/1 [==============================] - 0s 80ms/step\n",
            "1/1 [==============================] - 0s 21ms/step\n",
            "1/1 [==============================] - 0s 19ms/step\n",
            "Predicted summary:  great\n",
            "\n",
            "\n",
            "Review: purchased online local store quite carrying excellent noodles good price yummy even though purchase case worth \n",
            "Original summary: purchase online when store carrying your favorite noodle \n",
            "1/1 [==============================] - 0s 85ms/step\n",
            "1/1 [==============================] - 0s 20ms/step\n",
            "1/1 [==============================] - 0s 20ms/step\n",
            "Predicted summary:  great\n",
            "\n",
            "\n",
            "Review: natural balance dry food excellent healthy choice four cats love comfortable healthy limited ingredients one male cat urinary tract problems past careful choose excellent wet dry foods one wet food like also natural balance love innova recently ordered natural balance dry food salmon doubt love \n",
            "Original summary: healthy satisfying \n",
            "1/1 [==============================] - 0s 80ms/step\n",
            "1/1 [==============================] - 0s 22ms/step\n",
            "1/1 [==============================] - 0s 21ms/step\n",
            "Predicted summary:  great\n",
            "\n",
            "\n",
            "Review: wish could bigger says makes quarts like use cups make little bit stronger using gatorade water bottle bought amazon tried using water bottle bite valve washed right away start mold little inside bite valve like try use night time drinking \n",
            "Original summary: good for on the go \n",
            "1/1 [==============================] - 0s 79ms/step\n",
            "1/1 [==============================] - 0s 19ms/step\n",
            "1/1 [==============================] - 0s 20ms/step\n",
            "Predicted summary:  great\n",
            "\n",
            "\n",
            "Review: nice quick easy make best tasting side dish ever eat pretty good \n",
            "Original summary: good \n",
            "1/1 [==============================] - 0s 77ms/step\n",
            "1/1 [==============================] - 0s 20ms/step\n",
            "1/1 [==============================] - 0s 20ms/step\n",
            "Predicted summary:  great\n",
            "\n",
            "\n",
            "Review: soup good tasting like seafood like finally finishing case cans good food however plan getting particular product every little something extra bits pieces shell mostly shrimp also hard pieces lobster small pieces means taking small spoonfuls biting hard anything eat last spoonful find six eight pieces debris like said finishing case food pretty good appreciate careful soup \n",
            "Original summary: ingredient of lobster bisque \n",
            "1/1 [==============================] - 0s 81ms/step\n",
            "1/1 [==============================] - 0s 19ms/step\n",
            "1/1 [==============================] - 0s 19ms/step\n",
            "Predicted summary:  great\n",
            "\n",
            "\n",
            "Review: big juice drinkers family take apple juice cherry juice mix unflavored seltzer water otherwise find sweet nicely carbonated pretty authentic fruit taste still sickly sweet cut half half unflavored seltzer little ice happy \n",
            "Original summary: too sweet to drink \n",
            "1/1 [==============================] - 0s 83ms/step\n",
            "1/1 [==============================] - 0s 19ms/step\n",
            "1/1 [==============================] - 0s 19ms/step\n",
            "Predicted summary:  great\n",
            "\n",
            "\n",
            "Review: cookies excellent flavor texture best wheat free gluten free non dairy cookies tried son restrictive diet picky eater yums cookies often battle eat something else wants cookies cookies type eat know much flavors flavor cookie tops complaint amazon package correctly cushion bottom box lot cookies broken upon arrival mailed complaint heard anything hopefully next shipment packaged correctly \n",
            "Original summary: excellent product \n",
            "1/1 [==============================] - 0s 78ms/step\n",
            "1/1 [==============================] - 0s 19ms/step\n",
            "1/1 [==============================] - 0s 18ms/step\n",
            "Predicted summary:  great\n",
            "\n",
            "\n",
            "Review: hair prone dryness use layer different leave conditioning treatments keep hair drying washes bought days wash hair often starts shred wash every days used days good hair days fighting wash problem conditioner leaves hair really soft hair shiny healthy bouncy wash really excited found line shampoo goes along also great product note would say probably really dry hair though shampoo used anyone dandruff problem excess oil product buildup scalp conditioner works great though \n",
            "Original summary: love this conditioner \n",
            "1/1 [==============================] - 0s 82ms/step\n",
            "1/1 [==============================] - 0s 19ms/step\n",
            "1/1 [==============================] - 0s 19ms/step\n",
            "Predicted summary:  great\n",
            "\n",
            "\n",
            "Review: know cans air buy clean things try turning one cans upside spraying poop couple seconds works great putty knife lifts right carpet \n",
            "Original summary: down canned air \n",
            "1/1 [==============================] - 0s 80ms/step\n",
            "1/1 [==============================] - 0s 19ms/step\n",
            "1/1 [==============================] - 0s 19ms/step\n",
            "Predicted summary:  great\n",
            "\n",
            "\n",
            "Review: nut spread delicious sweet especially good sprouted raisin bread takes place peanut butter much healthier \n",
            "Original summary: good \n",
            "1/1 [==============================] - 0s 89ms/step\n",
            "1/1 [==============================] - 0s 35ms/step\n",
            "1/1 [==============================] - 0s 34ms/step\n",
            "Predicted summary:  great\n",
            "\n",
            "\n",
            "Review: weight watcher leader recommend product members still points plus light crispy tasty many flavors great meal evening snack glad discovered \n",
            "Original summary: awesome snacking \n",
            "1/1 [==============================] - 0s 117ms/step\n",
            "1/1 [==============================] - 0s 34ms/step\n",
            "1/1 [==============================] - 0s 29ms/step\n",
            "Predicted summary:  great\n",
            "\n",
            "\n",
            "Review: thought good sugar free cookie sugar free taste seem little bland think better nice cup coffee crispy light need alot satisfied actually pay indulge \n",
            "Original summary: nice cookies \n",
            "1/1 [==============================] - 0s 127ms/step\n",
            "1/1 [==============================] - 0s 30ms/step\n",
            "1/1 [==============================] - 0s 39ms/step\n",
            "Predicted summary:  great\n",
            "\n",
            "\n",
            "Review: never thought would find satisfying taste cuppa tea usa saw pg tips advertized amazon needless say ordered wonderful tea keep enjoying perfect cup tea every time brew bliss \n",
            "Original summary: my cuppa pg tips tea \n",
            "1/1 [==============================] - 0s 112ms/step\n",
            "1/1 [==============================] - 0s 30ms/step\n",
            "1/1 [==============================] - 0s 29ms/step\n",
            "Predicted summary:  great\n",
            "\n",
            "\n",
            "Review: absolutely best product available make mayonnaise however buying local market means taking second therefore buy online quantity save local market price \n",
            "Original summary: colman mustard \n",
            "1/1 [==============================] - 0s 118ms/step\n",
            "1/1 [==============================] - 0s 30ms/step\n",
            "1/1 [==============================] - 0s 30ms/step\n",
            "Predicted summary:  great\n",
            "\n",
            "\n",
            "Review: great snack eat lunch work hits spot entire bowl calories arrived time easier cheaper buying bulk \n",
            "Original summary: mm \n",
            "1/1 [==============================] - 0s 123ms/step\n",
            "1/1 [==============================] - 0s 43ms/step\n",
            "1/1 [==============================] - 0s 28ms/step\n",
            "Predicted summary:  great\n",
            "\n",
            "\n",
            "Review: second flavor line drinks tried nice fruity flavor enjoyed drink love fact beverage added sugar beware mean sugar get lot sugars fruit juices think great drink would recommend people real major complaint cans small really feel need second quench thirst however much bigger think sugar content would bigger regular soda \n",
            "Original summary: nice little drink \n",
            "1/1 [==============================] - 0s 120ms/step\n",
            "1/1 [==============================] - 0s 30ms/step\n",
            "1/1 [==============================] - 0s 30ms/step\n",
            "Predicted summary:  great\n",
            "\n",
            "\n",
            "Review: normally drink white tea bulk form whole food coop however times tea bags much convenient great tea fairly mild usually use two bags per cup \n",
            "Original summary: great product value \n",
            "1/1 [==============================] - 0s 125ms/step\n",
            "1/1 [==============================] - 0s 23ms/step\n",
            "1/1 [==============================] - 0s 19ms/step\n",
            "Predicted summary:  great\n",
            "\n",
            "\n",
            "Review: went limb purchased based solely reviews wisconsin resident much ability get ca try things happy purchase love flavor love reduced packaging perfect cup coffee \n",
            "Original summary: strong and rich \n",
            "1/1 [==============================] - 0s 80ms/step\n",
            "1/1 [==============================] - 0s 20ms/step\n",
            "1/1 [==============================] - 0s 19ms/step\n",
            "Predicted summary:  great\n",
            "\n",
            "\n",
            "Review: special cereal vanilla flavor family like like great buy kids \n",
            "Original summary: special cereal vanilla \n",
            "1/1 [==============================] - 0s 80ms/step\n",
            "1/1 [==============================] - 0s 22ms/step\n",
            "1/1 [==============================] - 0s 23ms/step\n",
            "Predicted summary:  great\n",
            "\n",
            "\n",
            "Review: quaker instant oatmeal lower sugar maple brown sugar get interested type oatmeal still available purchase tastes much better version skip box picture fitness giving super advice go original idea version taste horrible noticeable version mentioned edible varieties garbage recommended \n",
            "Original summary: stick to the original \n",
            "1/1 [==============================] - 0s 79ms/step\n",
            "1/1 [==============================] - 0s 19ms/step\n",
            "1/1 [==============================] - 0s 23ms/step\n",
            "Predicted summary:  great\n",
            "\n",
            "\n",
            "Review: caffeine acidity coffee problem coffee nice medium roast less two products mentioned really tastes good made arabica beans \n",
            "Original summary: melitta lite coffee \n",
            "1/1 [==============================] - 0s 83ms/step\n",
            "1/1 [==============================] - 0s 19ms/step\n",
            "1/1 [==============================] - 0s 21ms/step\n",
            "Predicted summary:  great\n",
            "\n",
            "\n",
            "Review: nice price glad see subscribe save option cups however undrinkable opinion seem watery like another reviewer said bad taste \n",
            "Original summary: good price bad taste \n",
            "1/1 [==============================] - 0s 99ms/step\n",
            "1/1 [==============================] - 0s 21ms/step\n",
            "1/1 [==============================] - 0s 21ms/step\n",
            "Predicted summary:  great\n",
            "\n",
            "\n",
            "Review: annie organic fruit snacks health food organic candy really really yummy organic candy tastes better usual gummy bears kids want candy get house goodie bags \n",
            "Original summary: awesome candy for kids \n",
            "1/1 [==============================] - 0s 86ms/step\n",
            "1/1 [==============================] - 0s 20ms/step\n",
            "1/1 [==============================] - 0s 23ms/step\n",
            "Predicted summary:  great\n",
            "\n",
            "\n",
            "Review: year old flat coated retriever developed symptoms diagnosed ibd allergy spike blood work charts specialist words change food venison sweet potato brought sick dog back medications daily next trying venison sweet potato treats thanks superb product \n",
            "Original summary: ibd much improved \n",
            "1/1 [==============================] - 0s 78ms/step\n",
            "1/1 [==============================] - 0s 20ms/step\n",
            "1/1 [==============================] - 0s 20ms/step\n",
            "Predicted summary:  great\n",
            "\n",
            "\n",
            "Review: tried apricot excellent apple leathers nearly good flavor texture little strange recently ordered raspberry strawberry order try generally stretch island packs good value considering individual leathers sell stores trader joes \n",
            "Original summary: not as good as other flavors \n",
            "1/1 [==============================] - 0s 77ms/step\n",
            "1/1 [==============================] - 0s 19ms/step\n",
            "1/1 [==============================] - 0s 22ms/step\n",
            "Predicted summary:  great\n",
            "\n",
            "\n",
            "Review: early know recommended product helps joints enjoying tea going one week \n",
            "Original summary: grass tea \n",
            "1/1 [==============================] - 0s 83ms/step\n",
            "1/1 [==============================] - 0s 19ms/step\n",
            "1/1 [==============================] - 0s 20ms/step\n",
            "Predicted summary:  great\n",
            "\n",
            "\n",
            "Review: sure ordered would like pleasantly surprised sweet sweet enough delicious many different flavors textures time would buy \n",
            "Original summary: great granola bars \n",
            "1/1 [==============================] - 0s 83ms/step\n",
            "1/1 [==============================] - 0s 19ms/step\n",
            "1/1 [==============================] - 0s 20ms/step\n",
            "Predicted summary:  great\n",
            "\n",
            "\n",
            "Review: arrived promptly much larger healthier expected hopefully keep way \n",
            "Original summary: great \n",
            "1/1 [==============================] - 0s 83ms/step\n",
            "1/1 [==============================] - 0s 21ms/step\n",
            "1/1 [==============================] - 0s 18ms/step\n",
            "Predicted summary:  great\n",
            "\n",
            "\n",
            "Review: using pancake mix couple weeks satisfied taste surprisingly good simple make nice change oatmeal eggs every day \n",
            "Original summary: satisfied customer \n",
            "1/1 [==============================] - 0s 78ms/step\n",
            "1/1 [==============================] - 0s 26ms/step\n",
            "1/1 [==============================] - 0s 19ms/step\n",
            "Predicted summary:  great\n",
            "\n",
            "\n",
            "Review: bought alot crystal light iced tea fruit punch lemonade pink lemonade love iced tea flavor tastes amazing crazy cals great \n",
            "Original summary: im in love \n",
            "1/1 [==============================] - 0s 81ms/step\n",
            "1/1 [==============================] - 0s 19ms/step\n",
            "1/1 [==============================] - 0s 19ms/step\n",
            "Predicted summary:  great\n",
            "\n",
            "\n",
            "Review: product received fine supplier impossible deal saw shipping free charged almost one third shipping cost feel people robbed one cared business amazon \n",
            "Original summary: beware of \n",
            "1/1 [==============================] - 0s 77ms/step\n",
            "1/1 [==============================] - 0s 23ms/step\n",
            "1/1 [==============================] - 0s 19ms/step\n",
            "Predicted summary:  great\n",
            "\n",
            "\n",
            "Review: searched everywhere tea tried search amazon delighted terrific tea honey price even though buy right \n",
            "Original summary: wonderful afternoon tea \n",
            "1/1 [==============================] - 0s 81ms/step\n",
            "1/1 [==============================] - 0s 21ms/step\n",
            "1/1 [==============================] - 0s 20ms/step\n",
            "Predicted summary:  great\n",
            "\n",
            "\n",
            "Review: dimensions bulbs watt length diameter watt length diameter watt length diameter bulbs line \n",
            "Original summary: color and \n",
            "1/1 [==============================] - 0s 90ms/step\n",
            "1/1 [==============================] - 0s 19ms/step\n",
            "1/1 [==============================] - 0s 19ms/step\n",
            "Predicted summary:  great\n",
            "\n",
            "\n",
            "Review: really find anything fruit better grocery store quality definitely worth price paid \n",
            "Original summary: nothing special \n",
            "1/1 [==============================] - 0s 80ms/step\n",
            "1/1 [==============================] - 0s 21ms/step\n",
            "1/1 [==============================] - 0s 19ms/step\n",
            "Predicted summary:  great\n",
            "\n",
            "\n",
            "Review: cats could care less one loves much food bowls nibbles every day throwing like outside grass \n",
            "Original summary: love it \n",
            "1/1 [==============================] - 0s 95ms/step\n",
            "1/1 [==============================] - 0s 20ms/step\n",
            "1/1 [==============================] - 0s 19ms/step\n",
            "Predicted summary:  great\n",
            "\n",
            "\n",
            "Review: product ingrediants salt spices soy protein last item common industry con adding msg food every soup grocers shelf contains msg digress third ingrediant form msg ingrediant list proudly displayed monosodium msg add spice food tongue feeling food tastes good msg make dogfood taste like hamburger anyone thinks making food taste cajun may serving alpo tones durkee contain msg prefer tones eight ounce cans stuff would anybody like buy hamburger \n",
            "Original summary: msg garbage \n",
            "1/1 [==============================] - 0s 95ms/step\n",
            "1/1 [==============================] - 0s 19ms/step\n",
            "1/1 [==============================] - 0s 19ms/step\n",
            "Predicted summary:  great\n",
            "\n",
            "\n",
            "Review: label says less sugar regular peanut butter read fine print less peanut butter said tasty \n",
            "Original summary: what scam \n",
            "1/1 [==============================] - 0s 77ms/step\n",
            "1/1 [==============================] - 0s 19ms/step\n",
            "1/1 [==============================] - 0s 19ms/step\n",
            "Predicted summary:  great\n",
            "\n",
            "\n",
            "Review: love sauce product concerned comments enough sauce noodles provided find issue adding bit soy final stage helped made uncooked shrimp delicous need prepared hand ingredients wish add box noodles sauce plan try tofu well first time made dish followed directions used hot tap water noodles second time used recently boiled water water made noodles stick together hard time getting separate used hot tap water problem suggest placing water bit time potential sticking happen plenty food two definately buy \n",
            "Original summary: delicious quick and easy \n",
            "1/1 [==============================] - 0s 82ms/step\n",
            "1/1 [==============================] - 0s 19ms/step\n",
            "1/1 [==============================] - 0s 20ms/step\n",
            "Predicted summary:  great\n",
            "\n",
            "\n",
            "Review: came home hot morning arizona sun opened illy issimo coffee drink nice cold fridge found expresso taste strong refreshing amount sweetness right great product \n",
            "Original summary: great taste \n",
            "1/1 [==============================] - 0s 85ms/step\n",
            "1/1 [==============================] - 0s 20ms/step\n",
            "1/1 [==============================] - 0s 20ms/step\n",
            "Predicted summary:  great\n",
            "\n",
            "\n",
            "Review: came days prior estimated delivery date happy \n",
            "Original summary: fast \n",
            "1/1 [==============================] - 0s 88ms/step\n",
            "1/1 [==============================] - 0s 20ms/step\n",
            "1/1 [==============================] - 0s 20ms/step\n",
            "Predicted summary:  great\n",
            "\n",
            "\n",
            "Review: pop chips great heard really good totally agree love able flavors like variety chips delivered quickly safely \n",
            "Original summary: love those chips \n",
            "1/1 [==============================] - 0s 78ms/step\n",
            "1/1 [==============================] - 0s 20ms/step\n",
            "1/1 [==============================] - 0s 19ms/step\n",
            "Predicted summary:  great\n",
            "\n",
            "\n",
            "Review: looks like tastes like chocolate colored water chocolate flavor whatsoever complete disappointment got hot chocolate cups swiss miss instead people giving product four five stars astounding amazon ratings system product \n",
            "Original summary: disgusting \n",
            "1/1 [==============================] - 0s 78ms/step\n",
            "1/1 [==============================] - 0s 21ms/step\n",
            "1/1 [==============================] - 0s 20ms/step\n",
            "Predicted summary:  great\n",
            "\n",
            "\n",
            "Review: love apricots fortunate travelled turkey real turkish dried apricots traveling found definite differences size taste quality freshness imported turkish apricots good quality excellent flavor consistency read previous reviews concerned packaging however came perfect shape well packaged six clear plastic tubs arrived cardboard box covered clear plastic around packaged amazon usual box air pillows tubs get broken two boxes contained get crushed well great product gladly purchase \n",
            "Original summary: true turkish apricots \n",
            "1/1 [==============================] - 0s 77ms/step\n",
            "1/1 [==============================] - 0s 19ms/step\n",
            "1/1 [==============================] - 0s 23ms/step\n",
            "Predicted summary:  great\n",
            "\n",
            "\n",
            "Review: wilderness family naturals offers many delicious products life short ruin body junky trans soy canola stepped processed extensively gmo mayo best ever tasted fats high caliber yes pricy look getting balanced fats formulated mary mind know get educated good fats buy taste great mayo \n",
            "Original summary: quality mayo \n",
            "1/1 [==============================] - 0s 78ms/step\n",
            "1/1 [==============================] - 0s 19ms/step\n",
            "1/1 [==============================] - 0s 19ms/step\n",
            "Predicted summary:  great\n",
            "\n",
            "\n",
            "Review: great product good casseroles family also loves yummy order soon \n",
            "Original summary: yummy \n",
            "1/1 [==============================] - 0s 79ms/step\n",
            "1/1 [==============================] - 0s 19ms/step\n",
            "1/1 [==============================] - 0s 19ms/step\n",
            "Predicted summary:  great\n",
            "\n",
            "\n",
            "Review: dog grand dog love bones usually give sit eat peaceful meal whatever ask bones thing wish lasted bit longer lol \n",
            "Original summary: dogs love these \n",
            "1/1 [==============================] - 0s 79ms/step\n",
            "1/1 [==============================] - 0s 20ms/step\n",
            "1/1 [==============================] - 0s 19ms/step\n",
            "Predicted summary:  great\n",
            "\n",
            "\n",
            "Review: tree arrived quickly perfect health one received pot bound needed quick root stem trim problem solved rosemary great little tree kitchen smells nice easy care pinch bit use cooking update august little guy still going strong issue least twice sprayed plant soapy water went away want use insecticide especially systemic stuff since use rosemary food \n",
            "Original summary: rosemary loves me \n",
            "1/1 [==============================] - 0s 77ms/step\n",
            "1/1 [==============================] - 0s 19ms/step\n",
            "1/1 [==============================] - 0s 20ms/step\n",
            "Predicted summary:  great\n",
            "\n",
            "\n",
            "Review: popcorn pretty good although like reviews read half seeds popped maybe order using big bags popcorn coconut oil sold separately pop bigger nearly seeds pop using \n",
            "Original summary: pretty good but \n",
            "1/1 [==============================] - 0s 91ms/step\n",
            "1/1 [==============================] - 0s 19ms/step\n",
            "1/1 [==============================] - 0s 19ms/step\n",
            "Predicted summary:  great\n",
            "\n",
            "\n",
            "Review: use sauce dishes could zip love dip grilled cheese sandwiches chips veggies kinds adds zip taco salad tacos good baked potato starting \n",
            "Original summary: already ordered more of this sauce \n",
            "1/1 [==============================] - 0s 79ms/step\n",
            "1/1 [==============================] - 0s 19ms/step\n",
            "1/1 [==============================] - 0s 22ms/step\n",
            "Predicted summary:  great\n",
            "\n",
            "\n",
            "Review: tried lot artificial sweeteners several brands stevia favorite need stir like extra fiber aftertaste like many artificial sweeteners \n",
            "Original summary: no aftertaste no need to stir \n",
            "1/1 [==============================] - 0s 77ms/step\n",
            "1/1 [==============================] - 0s 21ms/step\n",
            "1/1 [==============================] - 0s 20ms/step\n",
            "Predicted summary:  great\n",
            "\n",
            "\n",
            "Review: skeptical get rid tartar year old golden retriever first loves treat giving weeks probably every day noticed significant reduction tartar build \n",
            "Original summary: really works to tartar \n",
            "1/1 [==============================] - 0s 78ms/step\n",
            "1/1 [==============================] - 0s 19ms/step\n",
            "1/1 [==============================] - 0s 19ms/step\n",
            "Predicted summary:  great\n",
            "\n",
            "\n",
            "Review: munchies light non oily crispy balanced salt content perfect taste bud tang madhouse munchies highly recommended salt vinegar fondness snack made select north american potatoes quite tasty way human nature intended possible downside delight ingredient lactose affects allergic milk perhaps company may consider alternative version chips satisfy greater population however say cook healthier oil non hydrogenated canola chips cholesterol free trans fat msg preservatives artificial colors enjoy \n",
            "Original summary: munchies sea salt vinegar potato chips \n",
            "1/1 [==============================] - 0s 78ms/step\n",
            "1/1 [==============================] - 0s 19ms/step\n",
            "1/1 [==============================] - 0s 20ms/step\n",
            "Predicted summary:  great\n",
            "\n",
            "\n",
            "Review: love jack links beef steak top ordered box definately order highly recommend peppered beef steak perfect blend pepper spices smoked flavor make great anytime snack \n",
            "Original summary: burst of flavor \n",
            "1/1 [==============================] - 0s 78ms/step\n",
            "1/1 [==============================] - 0s 20ms/step\n",
            "1/1 [==============================] - 0s 22ms/step\n",
            "Predicted summary:  great\n",
            "\n",
            "\n",
            "Review: due economy price concerned quality order arrived received order found maple syrup great taste excellent flavor order arrived time expected good customer service highly recommended \n",
            "Original summary: great maple syrup \n",
            "1/1 [==============================] - 0s 123ms/step\n",
            "1/1 [==============================] - 0s 28ms/step\n",
            "1/1 [==============================] - 0s 30ms/step\n",
            "Predicted summary:  great\n",
            "\n",
            "\n",
            "Review: used paul prudhomme seafood seasoning many years although tried others nothing compares one used fish \n",
            "Original summary: best seafood seasoning available \n",
            "1/1 [==============================] - 0s 137ms/step\n",
            "1/1 [==============================] - 0s 30ms/step\n",
            "1/1 [==============================] - 0s 29ms/step\n",
            "Predicted summary:  great\n",
            "\n",
            "\n",
            "Review: use head shoulders moderate dandruff shampoo works well dandruff thicker head shoulders use small amount smells less like soap shampoo like nice lathers well leaves hair clean feeling even day overall think going switch head shoulders packaging note plan ordering amazon aware may leak transit mine leak little bit wrapped plastic bag get box items still messy needed rinsing took box \n",
            "Original summary: works well smells great \n",
            "1/1 [==============================] - 0s 118ms/step\n",
            "1/1 [==============================] - 0s 30ms/step\n",
            "1/1 [==============================] - 0s 28ms/step\n",
            "Predicted summary:  great\n",
            "\n",
            "\n",
            "Review: several cats one vomiting problem many years tried many cats food science diet sensitive one foods works purina sensitive also great royal canin oral sensitive think science diet purina best also give cat vet prescription vet said bowel disease \n",
            "Original summary: vomiting cats \n",
            "1/1 [==============================] - 0s 121ms/step\n",
            "1/1 [==============================] - 0s 29ms/step\n",
            "1/1 [==============================] - 0s 40ms/step\n",
            "Predicted summary:  great\n",
            "\n",
            "\n",
            "Review: purchased help lose weight hcg diet admit first opened smell based comments reviews seafood type smell following directions closely quickly eliminate blanched instructed minute strained seasoned little lemon pepper seasoning mixed seasoned chicken broth cooked shrimp mm perfect missing pastas used love close enough love definitely buy \n",
            "Original summary: keep an open mind while \n",
            "1/1 [==============================] - 0s 122ms/step\n",
            "1/1 [==============================] - 0s 29ms/step\n",
            "1/1 [==============================] - 0s 28ms/step\n",
            "Predicted summary:  great\n",
            "\n",
            "\n",
            "Review: main problem line products thick shampoos conditioners extent hard squeeze bottle qualities ok hair conditioner hair supposed one primary purposes conditioner \n",
            "Original summary: too thick \n",
            "1/1 [==============================] - 0s 129ms/step\n",
            "1/1 [==============================] - 0s 30ms/step\n",
            "1/1 [==============================] - 0s 29ms/step\n",
            "Predicted summary:  great\n",
            "\n",
            "\n",
            "Review: pretty good sauce actually put turkey sandwiches spicey \n",
            "Original summary: sweet but not spicey \n",
            "1/1 [==============================] - 0s 126ms/step\n",
            "1/1 [==============================] - 0s 32ms/step\n",
            "1/1 [==============================] - 0s 20ms/step\n",
            "Predicted summary:  great\n",
            "\n",
            "\n",
            "Review: family love switch delicious healthy juice added sugar comes carbonated drinks switch used come bottles cans much convenient easy recycle kiwi berry flavor favorite flavor flavors tasty \n",
            "Original summary: delicious \n",
            "1/1 [==============================] - 0s 82ms/step\n",
            "1/1 [==============================] - 0s 19ms/step\n",
            "1/1 [==============================] - 0s 19ms/step\n",
            "Predicted summary:  great\n",
            "\n",
            "\n",
            "Review: say except coffee strong weak bitterness overall pleasant indulgence strong enough stand plain flavored creamers tried wide variety brands one favorites another favorite sumatran reserve \n",
            "Original summary: not too strong not too weak \n",
            "1/1 [==============================] - 0s 79ms/step\n",
            "1/1 [==============================] - 0s 20ms/step\n",
            "1/1 [==============================] - 0s 20ms/step\n",
            "Predicted summary:  great\n",
            "\n",
            "\n",
            "Review: texture flavor finishing salt addictive light crunchy sharp tasting far best better maldon usual suspects mother order case households nothing replace cannot without summer tomatoes garden sprinkling flaky salt unbeatable although real freshly popped popcorn melted cultured butter flaky salt close second \n",
            "Original summary: best finishing salt in the world \n",
            "1/1 [==============================] - 0s 77ms/step\n",
            "1/1 [==============================] - 0s 19ms/step\n",
            "1/1 [==============================] - 0s 19ms/step\n",
            "Predicted summary:  great\n",
            "\n",
            "\n",
            "Review: love chocolate pretzels caramel peanuts peanut butter step right new favorite chocolate candy work go faster put people heard try keep coming back asking take complaint cannot find regular grocery stores \n",
            "Original summary: take more than \n",
            "1/1 [==============================] - 0s 83ms/step\n",
            "1/1 [==============================] - 0s 22ms/step\n",
            "1/1 [==============================] - 0s 21ms/step\n",
            "Predicted summary:  great\n",
            "\n",
            "\n",
            "Review: delicious bad cannot find stores getting sam club anymore \n",
            "Original summary: soooo good \n",
            "1/1 [==============================] - 0s 79ms/step\n",
            "1/1 [==============================] - 0s 19ms/step\n",
            "1/1 [==============================] - 0s 20ms/step\n",
            "Predicted summary:  great\n",
            "\n",
            "\n",
            "Review: spotted brand watching everyday italian food channel drink alone well adding brownies make expresso brownies wonderful \n",
            "Original summary: wonderful flavor used by everyday italian \n",
            "1/1 [==============================] - 0s 78ms/step\n",
            "1/1 [==============================] - 0s 20ms/step\n",
            "1/1 [==============================] - 0s 19ms/step\n",
            "Predicted summary:  great\n",
            "\n",
            "\n",
            "Review: purchased suckers two years offer reward times classroom students love always ask might getting tasty students always ask also purchased peach flavor also delicious would keep purchasing awesome amazon also offering great price \n",
            "Original summary: great tasting treat \n",
            "1/1 [==============================] - 0s 84ms/step\n",
            "1/1 [==============================] - 0s 21ms/step\n",
            "1/1 [==============================] - 0s 21ms/step\n",
            "Predicted summary:  great\n",
            "\n",
            "\n",
            "Review: nylabones dogs seem special attachment dinosaur know recently seen nub around somewhere nylabone seems brand cant destroy day yellow ring nylabone one standing months barely put dent marks \n",
            "Original summary: nylabone \n",
            "1/1 [==============================] - 0s 80ms/step\n",
            "1/1 [==============================] - 0s 20ms/step\n",
            "1/1 [==============================] - 0s 19ms/step\n",
            "Predicted summary:  great\n",
            "\n",
            "\n",
            "Review: best cat food forget dry commercial food weruva best delicious healthy smell absolutely perfect cat maine coons devouring weeks never going back dry cat food thanks weruva \n",
            "Original summary: the best \n",
            "1/1 [==============================] - 0s 78ms/step\n",
            "1/1 [==============================] - 0s 20ms/step\n",
            "1/1 [==============================] - 0s 19ms/step\n",
            "Predicted summary:  great\n",
            "\n",
            "\n",
            "Review: grape jam highest quality tastes great absolutely complaints however glass jars poorly packaged two twelve jars arrived seals already broken since could sure food safe eat throw away two jars would order product reason \n",
            "Original summary: little disappointed \n",
            "1/1 [==============================] - 0s 78ms/step\n",
            "1/1 [==============================] - 0s 19ms/step\n",
            "1/1 [==============================] - 0s 19ms/step\n",
            "Predicted summary:  great\n",
            "\n",
            "\n",
            "Review: best fortune cookies ever eaten would say less came broken certainly stale liked much ordered another box \n",
            "Original summary: amazing \n",
            "1/1 [==============================] - 0s 76ms/step\n",
            "1/1 [==============================] - 0s 19ms/step\n",
            "1/1 [==============================] - 0s 22ms/step\n",
            "Predicted summary:  great\n",
            "\n",
            "\n",
            "Review: expected sweet bits candied orange rind garlic really notice chili chili title expected heat none definitely needs heat \n",
            "Original summary: tasty \n",
            "1/1 [==============================] - 0s 87ms/step\n",
            "1/1 [==============================] - 0s 19ms/step\n",
            "1/1 [==============================] - 0s 20ms/step\n",
            "Predicted summary:  great\n",
            "\n",
            "\n",
            "Review: month old australian shepherd could get treats could either finally ended boring hole bottom luckily husband tools make smooth hole big enough kibbles works well treat dispenser dog really play like toy \n",
            "Original summary: good with some \n",
            "1/1 [==============================] - 0s 78ms/step\n",
            "1/1 [==============================] - 0s 22ms/step\n",
            "1/1 [==============================] - 0s 19ms/step\n",
            "Predicted summary:  great\n",
            "\n",
            "\n",
            "Review: always dieting ordered multi flavor package admit like flavors others first sure liked light airy filling calories grams fat fiber filling crunchy snack keep desk car diet satisfying need crunch think would like vinegar ones really salty ones least flavorful opinion sometimes use dip definitely order big sometimes need eat half feel satisfied honestly wish could get stores grow worth money stay diet \n",
            "Original summary: good for low cal snack \n",
            "1/1 [==============================] - 0s 78ms/step\n",
            "1/1 [==============================] - 0s 19ms/step\n",
            "1/1 [==============================] - 0s 20ms/step\n",
            "Predicted summary:  great\n",
            "\n",
            "\n",
            "Review: things habit forming opened bag immediately impressed sweet nice texture absolutely delicious mixed non raisins healthy yet sweet treat entire family fighting delicious \n",
            "Original summary: awesome almonds \n",
            "1/1 [==============================] - 0s 76ms/step\n",
            "1/1 [==============================] - 0s 20ms/step\n",
            "1/1 [==============================] - 0s 19ms/step\n",
            "Predicted summary:  great\n",
            "\n",
            "\n",
            "Review: happy quick delivery product fresh beans looking forward homemade vanilla extract done brewing would definitely buy seller \n",
            "Original summary: wonderfully fresh \n",
            "1/1 [==============================] - 0s 77ms/step\n",
            "1/1 [==============================] - 0s 20ms/step\n",
            "1/1 [==============================] - 0s 18ms/step\n",
            "Predicted summary:  great\n",
            "\n",
            "\n",
            "Review: bought africafe line yet got tanzania fell love overjoyed hear available online \n",
            "Original summary: best instant coffee \n",
            "1/1 [==============================] - 0s 77ms/step\n",
            "1/1 [==============================] - 0s 20ms/step\n",
            "1/1 [==============================] - 0s 22ms/step\n",
            "Predicted summary:  great\n",
            "\n",
            "\n",
            "Review: always look stores finally able purchase amazon strawberry sour taste eat couple gets much oh love texture candy save money store always buy piece grocery liquor store see would like buy whole box \n",
            "Original summary: yum yum sour \n",
            "1/1 [==============================] - 0s 78ms/step\n",
            "1/1 [==============================] - 0s 19ms/step\n",
            "1/1 [==============================] - 0s 22ms/step\n",
            "Predicted summary:  great\n",
            "\n",
            "\n",
            "Review: love wheat thins low sodium cannot find around stores request get box two thats \n",
            "Original summary: cannot find this in stores here anymore \n",
            "1/1 [==============================] - 0s 83ms/step\n",
            "1/1 [==============================] - 0s 20ms/step\n",
            "1/1 [==============================] - 0s 20ms/step\n",
            "Predicted summary:  great\n",
            "\n",
            "\n",
            "Review: even like vanilla flavoring chocolate shake kind guy say quite delicious almost like good last protein shake grainy gatorade shake complete opposite extremely smooth rich filled right without bloating indigestion kinds shakes sometimes drink know improvement health big thumbs shake \n",
            "Original summary: flavorful and filling \n",
            "1/1 [==============================] - 0s 83ms/step\n",
            "1/1 [==============================] - 0s 20ms/step\n",
            "1/1 [==============================] - 0s 20ms/step\n",
            "Predicted summary:  great\n",
            "\n",
            "\n",
            "Review: picked sausage making supplies product works expected lbs stuff last lifetime likely seeing occasional sausage maker cannot beat value \n",
            "Original summary: great value \n",
            "1/1 [==============================] - 0s 81ms/step\n",
            "1/1 [==============================] - 0s 20ms/step\n",
            "1/1 [==============================] - 0s 20ms/step\n",
            "Predicted summary:  great\n",
            "\n",
            "\n",
            "Review: rush order item get christmas received weeks late \n",
            "Original summary: disappointed \n",
            "1/1 [==============================] - 0s 82ms/step\n",
            "1/1 [==============================] - 0s 19ms/step\n",
            "1/1 [==============================] - 0s 20ms/step\n",
            "Predicted summary:  great\n",
            "\n",
            "\n",
            "Review: love tea combined russian caravan blend assam combined hint lapsang souchong oolong delicious like knowing exactly teas blend purchased blends give details labels \n",
            "Original summary: love it \n",
            "1/1 [==============================] - 0s 79ms/step\n",
            "1/1 [==============================] - 0s 20ms/step\n",
            "1/1 [==============================] - 0s 22ms/step\n",
            "Predicted summary:  great\n",
            "\n",
            "\n",
            "Review: new item believe tried new type cup great lets coffee drain much better ordering thanks san francisco bay coffee new way packaging \n",
            "Original summary: the new fog chaser \n",
            "1/1 [==============================] - 0s 77ms/step\n",
            "1/1 [==============================] - 0s 20ms/step\n",
            "1/1 [==============================] - 0s 20ms/step\n",
            "Predicted summary:  great\n",
            "\n",
            "\n",
            "Review: great bread tried quite brands frozen packaged think far one closest tasting gf bread regular bread please long holds also keeps well fridge like gluten free bread tried dry wrap air tight bag store shelf life unopened bread good time purchase case certainly worth money well spent bread also schar rolls noodles great luck crackers \n",
            "Original summary: very good bread \n",
            "1/1 [==============================] - 0s 78ms/step\n",
            "1/1 [==============================] - 0s 20ms/step\n",
            "1/1 [==============================] - 0s 19ms/step\n",
            "Predicted summary:  great\n",
            "\n",
            "\n",
            "Review: great value larger usual snack bag chips big enough share two like prevents eating huge bag wanted add note shipping process using amazon chips destroyed perfectly fine \n",
            "Original summary: amazing \n",
            "1/1 [==============================] - 0s 78ms/step\n",
            "1/1 [==============================] - 0s 20ms/step\n",
            "1/1 [==============================] - 0s 21ms/step\n",
            "Predicted summary:  great\n",
            "\n",
            "\n"
          ]
        }
      ]
    }
  ]
}